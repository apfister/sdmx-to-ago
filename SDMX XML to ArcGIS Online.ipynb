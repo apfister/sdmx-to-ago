{
 "cells": [
  {
   "cell_type": "code",
   "execution_count": null,
   "metadata": {},
   "outputs": [],
   "source": [
    "import os\n",
    "import requests\n",
    "import json\n",
    "import copy\n",
    "from bs4 import BeautifulSoup"
   ]
  },
  {
   "cell_type": "code",
   "execution_count": null,
   "metadata": {},
   "outputs": [],
   "source": [
    "indicator_code = 'ER_MRN_MARIN'\n",
    "start_period = '2015-01-01'\n",
    "\n",
    "api_url = 'http://unepliveservices.unep.org/nsiws/rest/data/DF_SDG/..{}........../?startPeriod={}'.format(indicator_code, start_period)\n",
    "api_url"
   ]
  },
  {
   "cell_type": "code",
   "execution_count": null,
   "metadata": {},
   "outputs": [],
   "source": [
    "resp = requests.get(api_url)\n",
    "soup = BeautifulSoup(resp.text, \"xml\")"
   ]
  },
  {
   "cell_type": "code",
   "execution_count": null,
   "metadata": {},
   "outputs": [],
   "source": [
    "ref_area_lookup = None\n",
    "pth = os.path.abspath('REF_AREA_LOOKUP.geojson')\n",
    "with open(pth, 'rb') as file:\n",
    "    ref_area_lookup = json.load(file)"
   ]
  },
  {
   "cell_type": "code",
   "execution_count": null,
   "metadata": {},
   "outputs": [],
   "source": [
    "sdmx_fields = ['FREQ', 'REPORTING_TYPE', 'SERIES', 'REF_AREA', 'SEX', 'AGE', 'URBANISATION', 'INCOME_WEALTH_QUANTILE', 'EDUCATION_LEV', 'OCCUPATION', 'CUST_BREAKDOWN', 'DISABILITY_STATUS', 'COMPOSITE_BREAKDOWN', 'TIME_PERIOD', 'OBS_STATUS', 'UNIT_MULT', 'UNIT_MEASURE', 'NATURE', 'UPPER_BOUND', 'LOWER_BOUND', 'TIME_COVERAGE', 'SOURCE_DETAIL']"
   ]
  },
  {
   "cell_type": "code",
   "execution_count": null,
   "metadata": {},
   "outputs": [],
   "source": [
    "geojson = {\n",
    "    'type': 'FeatureCollection',\n",
    "    'features': []\n",
    "}"
   ]
  },
  {
   "cell_type": "code",
   "execution_count": null,
   "metadata": {},
   "outputs": [],
   "source": [
    "def get_geometry(ref_area):   \n",
    "    geom = None\n",
    "    \n",
    "    lookup_feature = [f for f in ref_area_lookup['features'] if f['properties']['REF_AREA'] == ref_area]\n",
    "    if len(lookup_feature) > 0:\n",
    "        geom = lookup_feature[0]['geometry']\n",
    "        \n",
    "    return geom"
   ]
  },
  {
   "cell_type": "code",
   "execution_count": null,
   "metadata": {},
   "outputs": [],
   "source": [
    "geojson['features'] = []\n",
    "\n",
    "ds = soup.find('DataSet')\n",
    "series = ds.find_all('Series')\n",
    "\n",
    "for s in series:\n",
    "    series_key = s.find('SeriesKey')\n",
    "    series_obs = s.find_all('Obs')\n",
    "    sk_values = series_key.find_all('Value')\n",
    "    \n",
    "    properties = {}\n",
    "    geom = None\n",
    "    for value in sk_values:\n",
    "        attributes = value.attrs\n",
    "        \n",
    "        if attributes['id'] == 'REF_AREA':\n",
    "            geometry = get_geometry(int(attributes['value']))\n",
    "            \n",
    "            if geometry is not None:\n",
    "                geom = geometry\n",
    "            \n",
    "        if attributes['id'] in sdmx_fields:\n",
    "            properties[attributes['id']] = attributes['value']\n",
    "    \n",
    "    for obs in series_obs:\n",
    "        obs_dim = obs.find('ObsDimension')\n",
    "        obs_dim_field = obs_dim.attrs['id']\n",
    "        obs_dim_field_value = obs_dim.attrs['value']\n",
    "        \n",
    "        obs_value = obs.find('ObsValue').attrs['value']\n",
    "        \n",
    "        obs_attributes_values = obs.find('Attributes').find_all('Value')\n",
    "        \n",
    "        props = copy.deepcopy(properties)\n",
    "        for obs_att_value in obs_attributes_values:\n",
    "            if obs_att_value['id'] in sdmx_fields:\n",
    "                props[obs_att_value['id']] = obs_att_value['value']\n",
    "        \n",
    "        props[obs_dim_field] = obs_dim_field_value\n",
    "        props['OBS_VALUE'] = obs_value\n",
    "        \n",
    "        feature = {\n",
    "            \"type\": \"Feature\",\n",
    "            \"properties\": props,\n",
    "            \"geometry\": geom\n",
    "        }\n",
    "    \n",
    "        geojson['features'].append(feature)\n",
    "\n",
    "print (geojson)"
   ]
  },
  {
   "cell_type": "code",
   "execution_count": null,
   "metadata": {},
   "outputs": [],
   "source": []
  }
 ],
 "metadata": {
  "kernelspec": {
   "display_name": "Python 3",
   "language": "python",
   "name": "python3"
  },
  "language_info": {
   "codemirror_mode": {
    "name": "ipython",
    "version": 3
   },
   "file_extension": ".py",
   "mimetype": "text/x-python",
   "name": "python",
   "nbconvert_exporter": "python",
   "pygments_lexer": "ipython3",
   "version": "3.6.6"
  }
 },
 "nbformat": 4,
 "nbformat_minor": 2
}
